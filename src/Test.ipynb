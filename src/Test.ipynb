{
 "cells": [
  {
   "cell_type": "code",
   "execution_count": 1,
   "metadata": {},
   "outputs": [],
   "source": [
    "import pandas as pd\n",
    "import os\n"
   ]
  },
  {
   "cell_type": "code",
   "execution_count": 2,
   "metadata": {},
   "outputs": [],
   "source": [
    "from github import Github"
   ]
  },
  {
   "cell_type": "code",
   "execution_count": 19,
   "metadata": {},
   "outputs": [],
   "source": [
    "g=Github(\"manishjha\",\"Kisdin123$\")"
   ]
  },
  {
   "cell_type": "code",
   "execution_count": 21,
   "metadata": {},
   "outputs": [
    {
     "ename": "UnknownObjectException",
     "evalue": "404 {\"message\": \"Not Found\", \"documentation_url\": \"https://docs.github.com/rest\"}",
     "output_type": "error",
     "traceback": [
      "\u001b[1;31m---------------------------------------------------------------------------\u001b[0m",
      "\u001b[1;31mUnknownObjectException\u001b[0m                    Traceback (most recent call last)",
      "Cell \u001b[1;32mIn[21], line 1\u001b[0m\n\u001b[1;32m----> 1\u001b[0m repo\u001b[39m=\u001b[39mg\u001b[39m.\u001b[39;49mget_repo(\u001b[39m\"\u001b[39;49m\u001b[39mOD_setup\u001b[39;49m\u001b[39m\"\u001b[39;49m)\n",
      "File \u001b[1;32mc:\\Users\\jhaabman\\OneDrive - Tietoevry\\Desktop\\Scaler\\Deep_Learning\\OD_setup\\env\\lib\\site-packages\\github\\MainClass.py:363\u001b[0m, in \u001b[0;36mGithub.get_repo\u001b[1;34m(self, full_name_or_id, lazy)\u001b[0m\n\u001b[0;32m    359\u001b[0m \u001b[39mif\u001b[39;00m lazy:\n\u001b[0;32m    360\u001b[0m     \u001b[39mreturn\u001b[39;00m Repository\u001b[39m.\u001b[39mRepository(\n\u001b[0;32m    361\u001b[0m         \u001b[39mself\u001b[39m\u001b[39m.\u001b[39m__requester, {}, {\u001b[39m\"\u001b[39m\u001b[39murl\u001b[39m\u001b[39m\"\u001b[39m: url}, completed\u001b[39m=\u001b[39m\u001b[39mFalse\u001b[39;00m\n\u001b[0;32m    362\u001b[0m     )\n\u001b[1;32m--> 363\u001b[0m headers, data \u001b[39m=\u001b[39m \u001b[39mself\u001b[39;49m\u001b[39m.\u001b[39;49m__requester\u001b[39m.\u001b[39;49mrequestJsonAndCheck(\u001b[39m\"\u001b[39;49m\u001b[39mGET\u001b[39;49m\u001b[39m\"\u001b[39;49m, url)\n\u001b[0;32m    364\u001b[0m \u001b[39mreturn\u001b[39;00m Repository\u001b[39m.\u001b[39mRepository(\u001b[39mself\u001b[39m\u001b[39m.\u001b[39m__requester, headers, data, completed\u001b[39m=\u001b[39m\u001b[39mTrue\u001b[39;00m)\n",
      "File \u001b[1;32mc:\\Users\\jhaabman\\OneDrive - Tietoevry\\Desktop\\Scaler\\Deep_Learning\\OD_setup\\env\\lib\\site-packages\\github\\Requester.py:442\u001b[0m, in \u001b[0;36mRequester.requestJsonAndCheck\u001b[1;34m(self, verb, url, parameters, headers, input)\u001b[0m\n\u001b[0;32m    434\u001b[0m \u001b[39mdef\u001b[39;00m \u001b[39mrequestJsonAndCheck\u001b[39m(\n\u001b[0;32m    435\u001b[0m     \u001b[39mself\u001b[39m,\n\u001b[0;32m    436\u001b[0m     verb: \u001b[39mstr\u001b[39m,\n\u001b[1;32m   (...)\u001b[0m\n\u001b[0;32m    440\u001b[0m     \u001b[39minput\u001b[39m: Optional[Any] \u001b[39m=\u001b[39m \u001b[39mNone\u001b[39;00m,\n\u001b[0;32m    441\u001b[0m ) \u001b[39m-\u001b[39m\u001b[39m>\u001b[39m Tuple[Dict[\u001b[39mstr\u001b[39m, Any], Any]:\n\u001b[1;32m--> 442\u001b[0m     \u001b[39mreturn\u001b[39;00m \u001b[39mself\u001b[39;49m\u001b[39m.\u001b[39;49m__check(\n\u001b[0;32m    443\u001b[0m         \u001b[39m*\u001b[39;49m\u001b[39mself\u001b[39;49m\u001b[39m.\u001b[39;49mrequestJson(\n\u001b[0;32m    444\u001b[0m             verb, url, parameters, headers, \u001b[39minput\u001b[39;49m, \u001b[39mself\u001b[39;49m\u001b[39m.\u001b[39;49m__customConnection(url)\n\u001b[0;32m    445\u001b[0m         )\n\u001b[0;32m    446\u001b[0m     )\n",
      "File \u001b[1;32mc:\\Users\\jhaabman\\OneDrive - Tietoevry\\Desktop\\Scaler\\Deep_Learning\\OD_setup\\env\\lib\\site-packages\\github\\Requester.py:487\u001b[0m, in \u001b[0;36mRequester.__check\u001b[1;34m(self, status, responseHeaders, output)\u001b[0m\n\u001b[0;32m    485\u001b[0m data \u001b[39m=\u001b[39m \u001b[39mself\u001b[39m\u001b[39m.\u001b[39m__structuredFromJson(output)\n\u001b[0;32m    486\u001b[0m \u001b[39mif\u001b[39;00m status \u001b[39m>\u001b[39m\u001b[39m=\u001b[39m \u001b[39m400\u001b[39m:\n\u001b[1;32m--> 487\u001b[0m     \u001b[39mraise\u001b[39;00m \u001b[39mself\u001b[39m\u001b[39m.\u001b[39m__createException(status, responseHeaders, data)\n\u001b[0;32m    488\u001b[0m \u001b[39mreturn\u001b[39;00m responseHeaders, data\n",
      "\u001b[1;31mUnknownObjectException\u001b[0m: 404 {\"message\": \"Not Found\", \"documentation_url\": \"https://docs.github.com/rest\"}"
     ]
    }
   ],
   "source": [
    "repo=g.get_repo(\"OD_setup\")\n",
    "   "
   ]
  },
  {
   "cell_type": "code",
   "execution_count": 22,
   "metadata": {},
   "outputs": [
    {
     "name": "stdout",
     "output_type": "stream",
     "text": [
      "OD_setup\n"
     ]
    }
   ],
   "source": [
    "repo=g.get_repo(\"manishacadgild/OD_setup\")\n",
    "print(repo.name)"
   ]
  },
  {
   "cell_type": "code",
   "execution_count": 16,
   "metadata": {},
   "outputs": [
    {
     "name": "stdout",
     "output_type": "stream",
     "text": [
      "manishacadgild/example_repo\n"
     ]
    }
   ],
   "source": [
    "repo = g.get_repo(\"manishacadgild/example_repo\")\n",
    "print(repo.full_name)"
   ]
  },
  {
   "cell_type": "code",
   "execution_count": 30,
   "metadata": {},
   "outputs": [
    {
     "name": "stdout",
     "output_type": "stream",
     "text": [
      "Get all repos:\n"
     ]
    },
    {
     "ename": "GithubException",
     "evalue": "401 {\"message\": \"Requires authentication\", \"documentation_url\": \"https://docs.github.com/rest/users/users#get-the-authenticated-user\"}",
     "output_type": "error",
     "traceback": [
      "\u001b[1;31m---------------------------------------------------------------------------\u001b[0m",
      "\u001b[1;31mGithubException\u001b[0m                           Traceback (most recent call last)",
      "Cell \u001b[1;32mIn[30], line 3\u001b[0m\n\u001b[0;32m      1\u001b[0m repoName \u001b[39m=\u001b[39m \u001b[39m\"\u001b[39m\u001b[39mexample_repo\u001b[39m\u001b[39m\"\u001b[39m\n\u001b[0;32m      2\u001b[0m \u001b[39mprint\u001b[39m (\u001b[39m\"\u001b[39m\u001b[39mGet all repos:\u001b[39m\u001b[39m\"\u001b[39m)\n\u001b[1;32m----> 3\u001b[0m branch \u001b[39m=\u001b[39m g\u001b[39m.\u001b[39;49mget_user()\u001b[39m.\u001b[39;49mget_repo(repoName)\u001b[39m.\u001b[39mget_branch(\u001b[39m'\u001b[39m\u001b[39mmain\u001b[39m\u001b[39m'\u001b[39m)\n\u001b[0;32m      4\u001b[0m \u001b[39mprint\u001b[39m(branch)\n",
      "File \u001b[1;32mc:\\Users\\jhaabman\\OneDrive - Tietoevry\\Desktop\\Scaler\\Deep_Learning\\OD_setup\\env\\lib\\site-packages\\github\\AuthenticatedUser.py:1076\u001b[0m, in \u001b[0;36mAuthenticatedUser.get_repo\u001b[1;34m(self, name)\u001b[0m\n\u001b[0;32m   1069\u001b[0m \u001b[39m\u001b[39m\u001b[39m\"\"\"\u001b[39;00m\n\u001b[0;32m   1070\u001b[0m \u001b[39m:calls: `GET /repos/{owner}/{repo} <http://docs.github.com/en/rest/reference/repos>`_\u001b[39;00m\n\u001b[0;32m   1071\u001b[0m \u001b[39m:param name: string\u001b[39;00m\n\u001b[0;32m   1072\u001b[0m \u001b[39m:rtype: :class:`github.Repository.Repository`\u001b[39;00m\n\u001b[0;32m   1073\u001b[0m \u001b[39m\"\"\"\u001b[39;00m\n\u001b[0;32m   1074\u001b[0m \u001b[39massert\u001b[39;00m \u001b[39misinstance\u001b[39m(name, \u001b[39mstr\u001b[39m), name\n\u001b[0;32m   1075\u001b[0m headers, data \u001b[39m=\u001b[39m \u001b[39mself\u001b[39m\u001b[39m.\u001b[39m_requester\u001b[39m.\u001b[39mrequestJsonAndCheck(\n\u001b[1;32m-> 1076\u001b[0m     \u001b[39m\"\u001b[39m\u001b[39mGET\u001b[39m\u001b[39m\"\u001b[39m, \u001b[39mf\u001b[39m\u001b[39m\"\u001b[39m\u001b[39m/repos/\u001b[39m\u001b[39m{\u001b[39;00m\u001b[39mself\u001b[39;49m\u001b[39m.\u001b[39;49mlogin\u001b[39m}\u001b[39;00m\u001b[39m/\u001b[39m\u001b[39m{\u001b[39;00mname\u001b[39m}\u001b[39;00m\u001b[39m\"\u001b[39m\n\u001b[0;32m   1077\u001b[0m )\n\u001b[0;32m   1078\u001b[0m \u001b[39mreturn\u001b[39;00m github\u001b[39m.\u001b[39mRepository\u001b[39m.\u001b[39mRepository(\n\u001b[0;32m   1079\u001b[0m     \u001b[39mself\u001b[39m\u001b[39m.\u001b[39m_requester, headers, data, completed\u001b[39m=\u001b[39m\u001b[39mTrue\u001b[39;00m\n\u001b[0;32m   1080\u001b[0m )\n",
      "File \u001b[1;32mc:\\Users\\jhaabman\\OneDrive - Tietoevry\\Desktop\\Scaler\\Deep_Learning\\OD_setup\\env\\lib\\site-packages\\github\\AuthenticatedUser.py:231\u001b[0m, in \u001b[0;36mAuthenticatedUser.login\u001b[1;34m(self)\u001b[0m\n\u001b[0;32m    226\u001b[0m \u001b[39m@property\u001b[39m\n\u001b[0;32m    227\u001b[0m \u001b[39mdef\u001b[39;00m \u001b[39mlogin\u001b[39m(\u001b[39mself\u001b[39m):\n\u001b[0;32m    228\u001b[0m \u001b[39m    \u001b[39m\u001b[39m\"\"\"\u001b[39;00m\n\u001b[0;32m    229\u001b[0m \u001b[39m    :type: string\u001b[39;00m\n\u001b[0;32m    230\u001b[0m \u001b[39m    \"\"\"\u001b[39;00m\n\u001b[1;32m--> 231\u001b[0m     \u001b[39mself\u001b[39;49m\u001b[39m.\u001b[39;49m_completeIfNotSet(\u001b[39mself\u001b[39;49m\u001b[39m.\u001b[39;49m_login)\n\u001b[0;32m    232\u001b[0m     \u001b[39mreturn\u001b[39;00m \u001b[39mself\u001b[39m\u001b[39m.\u001b[39m_login\u001b[39m.\u001b[39mvalue\n",
      "File \u001b[1;32mc:\\Users\\jhaabman\\OneDrive - Tietoevry\\Desktop\\Scaler\\Deep_Learning\\OD_setup\\env\\lib\\site-packages\\github\\GithubObject.py:386\u001b[0m, in \u001b[0;36mCompletableGithubObject._completeIfNotSet\u001b[1;34m(self, value)\u001b[0m\n\u001b[0;32m    384\u001b[0m \u001b[39mdef\u001b[39;00m \u001b[39m_completeIfNotSet\u001b[39m(\u001b[39mself\u001b[39m, value: Attribute) \u001b[39m-\u001b[39m\u001b[39m>\u001b[39m \u001b[39mNone\u001b[39;00m:\n\u001b[0;32m    385\u001b[0m     \u001b[39mif\u001b[39;00m \u001b[39misinstance\u001b[39m(value, _NotSetType):\n\u001b[1;32m--> 386\u001b[0m         \u001b[39mself\u001b[39;49m\u001b[39m.\u001b[39;49m_completeIfNeeded()\n",
      "File \u001b[1;32mc:\\Users\\jhaabman\\OneDrive - Tietoevry\\Desktop\\Scaler\\Deep_Learning\\OD_setup\\env\\lib\\site-packages\\github\\GithubObject.py:390\u001b[0m, in \u001b[0;36mCompletableGithubObject._completeIfNeeded\u001b[1;34m(self)\u001b[0m\n\u001b[0;32m    388\u001b[0m \u001b[39mdef\u001b[39;00m \u001b[39m_completeIfNeeded\u001b[39m(\u001b[39mself\u001b[39m) \u001b[39m-\u001b[39m\u001b[39m>\u001b[39m \u001b[39mNone\u001b[39;00m:\n\u001b[0;32m    389\u001b[0m     \u001b[39mif\u001b[39;00m \u001b[39mnot\u001b[39;00m \u001b[39mself\u001b[39m\u001b[39m.\u001b[39m__completed:\n\u001b[1;32m--> 390\u001b[0m         \u001b[39mself\u001b[39;49m\u001b[39m.\u001b[39;49m__complete()\n",
      "File \u001b[1;32mc:\\Users\\jhaabman\\OneDrive - Tietoevry\\Desktop\\Scaler\\Deep_Learning\\OD_setup\\env\\lib\\site-packages\\github\\GithubObject.py:395\u001b[0m, in \u001b[0;36mCompletableGithubObject.__complete\u001b[1;34m(self)\u001b[0m\n\u001b[0;32m    393\u001b[0m \u001b[39mif\u001b[39;00m \u001b[39mself\u001b[39m\u001b[39m.\u001b[39m_url\u001b[39m.\u001b[39mvalue \u001b[39mis\u001b[39;00m \u001b[39mNone\u001b[39;00m:\n\u001b[0;32m    394\u001b[0m     \u001b[39mraise\u001b[39;00m IncompletableObject(\u001b[39m400\u001b[39m, \u001b[39m\"\u001b[39m\u001b[39mReturned object contains no URL\u001b[39m\u001b[39m\"\u001b[39m, \u001b[39mNone\u001b[39;00m)\n\u001b[1;32m--> 395\u001b[0m headers, data \u001b[39m=\u001b[39m \u001b[39mself\u001b[39;49m\u001b[39m.\u001b[39;49m_requester\u001b[39m.\u001b[39;49mrequestJsonAndCheck(\u001b[39m\"\u001b[39;49m\u001b[39mGET\u001b[39;49m\u001b[39m\"\u001b[39;49m, \u001b[39mself\u001b[39;49m\u001b[39m.\u001b[39;49m_url\u001b[39m.\u001b[39;49mvalue)\n\u001b[0;32m    396\u001b[0m \u001b[39mself\u001b[39m\u001b[39m.\u001b[39m_storeAndUseAttributes(headers, data)\n\u001b[0;32m    397\u001b[0m \u001b[39mself\u001b[39m\u001b[39m.\u001b[39m__completed \u001b[39m=\u001b[39m \u001b[39mTrue\u001b[39;00m\n",
      "File \u001b[1;32mc:\\Users\\jhaabman\\OneDrive - Tietoevry\\Desktop\\Scaler\\Deep_Learning\\OD_setup\\env\\lib\\site-packages\\github\\Requester.py:442\u001b[0m, in \u001b[0;36mRequester.requestJsonAndCheck\u001b[1;34m(self, verb, url, parameters, headers, input)\u001b[0m\n\u001b[0;32m    434\u001b[0m \u001b[39mdef\u001b[39;00m \u001b[39mrequestJsonAndCheck\u001b[39m(\n\u001b[0;32m    435\u001b[0m     \u001b[39mself\u001b[39m,\n\u001b[0;32m    436\u001b[0m     verb: \u001b[39mstr\u001b[39m,\n\u001b[1;32m   (...)\u001b[0m\n\u001b[0;32m    440\u001b[0m     \u001b[39minput\u001b[39m: Optional[Any] \u001b[39m=\u001b[39m \u001b[39mNone\u001b[39;00m,\n\u001b[0;32m    441\u001b[0m ) \u001b[39m-\u001b[39m\u001b[39m>\u001b[39m Tuple[Dict[\u001b[39mstr\u001b[39m, Any], Any]:\n\u001b[1;32m--> 442\u001b[0m     \u001b[39mreturn\u001b[39;00m \u001b[39mself\u001b[39;49m\u001b[39m.\u001b[39;49m__check(\n\u001b[0;32m    443\u001b[0m         \u001b[39m*\u001b[39;49m\u001b[39mself\u001b[39;49m\u001b[39m.\u001b[39;49mrequestJson(\n\u001b[0;32m    444\u001b[0m             verb, url, parameters, headers, \u001b[39minput\u001b[39;49m, \u001b[39mself\u001b[39;49m\u001b[39m.\u001b[39;49m__customConnection(url)\n\u001b[0;32m    445\u001b[0m         )\n\u001b[0;32m    446\u001b[0m     )\n",
      "File \u001b[1;32mc:\\Users\\jhaabman\\OneDrive - Tietoevry\\Desktop\\Scaler\\Deep_Learning\\OD_setup\\env\\lib\\site-packages\\github\\Requester.py:487\u001b[0m, in \u001b[0;36mRequester.__check\u001b[1;34m(self, status, responseHeaders, output)\u001b[0m\n\u001b[0;32m    485\u001b[0m data \u001b[39m=\u001b[39m \u001b[39mself\u001b[39m\u001b[39m.\u001b[39m__structuredFromJson(output)\n\u001b[0;32m    486\u001b[0m \u001b[39mif\u001b[39;00m status \u001b[39m>\u001b[39m\u001b[39m=\u001b[39m \u001b[39m400\u001b[39m:\n\u001b[1;32m--> 487\u001b[0m     \u001b[39mraise\u001b[39;00m \u001b[39mself\u001b[39m\u001b[39m.\u001b[39m__createException(status, responseHeaders, data)\n\u001b[0;32m    488\u001b[0m \u001b[39mreturn\u001b[39;00m responseHeaders, data\n",
      "\u001b[1;31mGithubException\u001b[0m: 401 {\"message\": \"Requires authentication\", \"documentation_url\": \"https://docs.github.com/rest/users/users#get-the-authenticated-user\"}"
     ]
    }
   ],
   "source": [
    "repoName = \"example_repo\"\n",
    "print (\"Get all repos:\")\n",
    "branch = g.get_user().get_repo().get_branch('main')\n",
    "print(branch)"
   ]
  },
  {
   "cell_type": "code",
   "execution_count": null,
   "metadata": {},
   "outputs": [
    {
     "ename": "GithubException",
     "evalue": "401 {\"message\": \"Requires authentication\", \"documentation_url\": \"https://docs.github.com/rest/users/users#get-the-authenticated-user\"}",
     "output_type": "error",
     "traceback": [
      "\u001b[1;31m---------------------------------------------------------------------------\u001b[0m",
      "\u001b[1;31mGithubException\u001b[0m                           Traceback (most recent call last)",
      "Cell \u001b[1;32mIn[17], line 1\u001b[0m\n\u001b[1;32m----> 1\u001b[0m repo \u001b[39m=\u001b[39m g\u001b[39m.\u001b[39;49mget_user()\u001b[39m.\u001b[39;49mget_repo(\u001b[39m\"\u001b[39;49m\u001b[39mmanishacadgild/example_repo\u001b[39;49m\u001b[39m\"\u001b[39;49m)\n",
      "File \u001b[1;32mc:\\Users\\jhaabman\\OneDrive - Tietoevry\\Desktop\\Scaler\\Deep_Learning\\OD_setup\\env\\lib\\site-packages\\github\\AuthenticatedUser.py:1076\u001b[0m, in \u001b[0;36mAuthenticatedUser.get_repo\u001b[1;34m(self, name)\u001b[0m\n\u001b[0;32m   1069\u001b[0m \u001b[39m\u001b[39m\u001b[39m\"\"\"\u001b[39;00m\n\u001b[0;32m   1070\u001b[0m \u001b[39m:calls: `GET /repos/{owner}/{repo} <http://docs.github.com/en/rest/reference/repos>`_\u001b[39;00m\n\u001b[0;32m   1071\u001b[0m \u001b[39m:param name: string\u001b[39;00m\n\u001b[0;32m   1072\u001b[0m \u001b[39m:rtype: :class:`github.Repository.Repository`\u001b[39;00m\n\u001b[0;32m   1073\u001b[0m \u001b[39m\"\"\"\u001b[39;00m\n\u001b[0;32m   1074\u001b[0m \u001b[39massert\u001b[39;00m \u001b[39misinstance\u001b[39m(name, \u001b[39mstr\u001b[39m), name\n\u001b[0;32m   1075\u001b[0m headers, data \u001b[39m=\u001b[39m \u001b[39mself\u001b[39m\u001b[39m.\u001b[39m_requester\u001b[39m.\u001b[39mrequestJsonAndCheck(\n\u001b[1;32m-> 1076\u001b[0m     \u001b[39m\"\u001b[39m\u001b[39mGET\u001b[39m\u001b[39m\"\u001b[39m, \u001b[39mf\u001b[39m\u001b[39m\"\u001b[39m\u001b[39m/repos/\u001b[39m\u001b[39m{\u001b[39;00m\u001b[39mself\u001b[39;49m\u001b[39m.\u001b[39;49mlogin\u001b[39m}\u001b[39;00m\u001b[39m/\u001b[39m\u001b[39m{\u001b[39;00mname\u001b[39m}\u001b[39;00m\u001b[39m\"\u001b[39m\n\u001b[0;32m   1077\u001b[0m )\n\u001b[0;32m   1078\u001b[0m \u001b[39mreturn\u001b[39;00m github\u001b[39m.\u001b[39mRepository\u001b[39m.\u001b[39mRepository(\n\u001b[0;32m   1079\u001b[0m     \u001b[39mself\u001b[39m\u001b[39m.\u001b[39m_requester, headers, data, completed\u001b[39m=\u001b[39m\u001b[39mTrue\u001b[39;00m\n\u001b[0;32m   1080\u001b[0m )\n",
      "File \u001b[1;32mc:\\Users\\jhaabman\\OneDrive - Tietoevry\\Desktop\\Scaler\\Deep_Learning\\OD_setup\\env\\lib\\site-packages\\github\\AuthenticatedUser.py:231\u001b[0m, in \u001b[0;36mAuthenticatedUser.login\u001b[1;34m(self)\u001b[0m\n\u001b[0;32m    226\u001b[0m \u001b[39m@property\u001b[39m\n\u001b[0;32m    227\u001b[0m \u001b[39mdef\u001b[39;00m \u001b[39mlogin\u001b[39m(\u001b[39mself\u001b[39m):\n\u001b[0;32m    228\u001b[0m \u001b[39m    \u001b[39m\u001b[39m\"\"\"\u001b[39;00m\n\u001b[0;32m    229\u001b[0m \u001b[39m    :type: string\u001b[39;00m\n\u001b[0;32m    230\u001b[0m \u001b[39m    \"\"\"\u001b[39;00m\n\u001b[1;32m--> 231\u001b[0m     \u001b[39mself\u001b[39;49m\u001b[39m.\u001b[39;49m_completeIfNotSet(\u001b[39mself\u001b[39;49m\u001b[39m.\u001b[39;49m_login)\n\u001b[0;32m    232\u001b[0m     \u001b[39mreturn\u001b[39;00m \u001b[39mself\u001b[39m\u001b[39m.\u001b[39m_login\u001b[39m.\u001b[39mvalue\n",
      "File \u001b[1;32mc:\\Users\\jhaabman\\OneDrive - Tietoevry\\Desktop\\Scaler\\Deep_Learning\\OD_setup\\env\\lib\\site-packages\\github\\GithubObject.py:386\u001b[0m, in \u001b[0;36mCompletableGithubObject._completeIfNotSet\u001b[1;34m(self, value)\u001b[0m\n\u001b[0;32m    384\u001b[0m \u001b[39mdef\u001b[39;00m \u001b[39m_completeIfNotSet\u001b[39m(\u001b[39mself\u001b[39m, value: Attribute) \u001b[39m-\u001b[39m\u001b[39m>\u001b[39m \u001b[39mNone\u001b[39;00m:\n\u001b[0;32m    385\u001b[0m     \u001b[39mif\u001b[39;00m \u001b[39misinstance\u001b[39m(value, _NotSetType):\n\u001b[1;32m--> 386\u001b[0m         \u001b[39mself\u001b[39;49m\u001b[39m.\u001b[39;49m_completeIfNeeded()\n",
      "File \u001b[1;32mc:\\Users\\jhaabman\\OneDrive - Tietoevry\\Desktop\\Scaler\\Deep_Learning\\OD_setup\\env\\lib\\site-packages\\github\\GithubObject.py:390\u001b[0m, in \u001b[0;36mCompletableGithubObject._completeIfNeeded\u001b[1;34m(self)\u001b[0m\n\u001b[0;32m    388\u001b[0m \u001b[39mdef\u001b[39;00m \u001b[39m_completeIfNeeded\u001b[39m(\u001b[39mself\u001b[39m) \u001b[39m-\u001b[39m\u001b[39m>\u001b[39m \u001b[39mNone\u001b[39;00m:\n\u001b[0;32m    389\u001b[0m     \u001b[39mif\u001b[39;00m \u001b[39mnot\u001b[39;00m \u001b[39mself\u001b[39m\u001b[39m.\u001b[39m__completed:\n\u001b[1;32m--> 390\u001b[0m         \u001b[39mself\u001b[39;49m\u001b[39m.\u001b[39;49m__complete()\n",
      "File \u001b[1;32mc:\\Users\\jhaabman\\OneDrive - Tietoevry\\Desktop\\Scaler\\Deep_Learning\\OD_setup\\env\\lib\\site-packages\\github\\GithubObject.py:395\u001b[0m, in \u001b[0;36mCompletableGithubObject.__complete\u001b[1;34m(self)\u001b[0m\n\u001b[0;32m    393\u001b[0m \u001b[39mif\u001b[39;00m \u001b[39mself\u001b[39m\u001b[39m.\u001b[39m_url\u001b[39m.\u001b[39mvalue \u001b[39mis\u001b[39;00m \u001b[39mNone\u001b[39;00m:\n\u001b[0;32m    394\u001b[0m     \u001b[39mraise\u001b[39;00m IncompletableObject(\u001b[39m400\u001b[39m, \u001b[39m\"\u001b[39m\u001b[39mReturned object contains no URL\u001b[39m\u001b[39m\"\u001b[39m, \u001b[39mNone\u001b[39;00m)\n\u001b[1;32m--> 395\u001b[0m headers, data \u001b[39m=\u001b[39m \u001b[39mself\u001b[39;49m\u001b[39m.\u001b[39;49m_requester\u001b[39m.\u001b[39;49mrequestJsonAndCheck(\u001b[39m\"\u001b[39;49m\u001b[39mGET\u001b[39;49m\u001b[39m\"\u001b[39;49m, \u001b[39mself\u001b[39;49m\u001b[39m.\u001b[39;49m_url\u001b[39m.\u001b[39;49mvalue)\n\u001b[0;32m    396\u001b[0m \u001b[39mself\u001b[39m\u001b[39m.\u001b[39m_storeAndUseAttributes(headers, data)\n\u001b[0;32m    397\u001b[0m \u001b[39mself\u001b[39m\u001b[39m.\u001b[39m__completed \u001b[39m=\u001b[39m \u001b[39mTrue\u001b[39;00m\n",
      "File \u001b[1;32mc:\\Users\\jhaabman\\OneDrive - Tietoevry\\Desktop\\Scaler\\Deep_Learning\\OD_setup\\env\\lib\\site-packages\\github\\Requester.py:442\u001b[0m, in \u001b[0;36mRequester.requestJsonAndCheck\u001b[1;34m(self, verb, url, parameters, headers, input)\u001b[0m\n\u001b[0;32m    434\u001b[0m \u001b[39mdef\u001b[39;00m \u001b[39mrequestJsonAndCheck\u001b[39m(\n\u001b[0;32m    435\u001b[0m     \u001b[39mself\u001b[39m,\n\u001b[0;32m    436\u001b[0m     verb: \u001b[39mstr\u001b[39m,\n\u001b[1;32m   (...)\u001b[0m\n\u001b[0;32m    440\u001b[0m     \u001b[39minput\u001b[39m: Optional[Any] \u001b[39m=\u001b[39m \u001b[39mNone\u001b[39;00m,\n\u001b[0;32m    441\u001b[0m ) \u001b[39m-\u001b[39m\u001b[39m>\u001b[39m Tuple[Dict[\u001b[39mstr\u001b[39m, Any], Any]:\n\u001b[1;32m--> 442\u001b[0m     \u001b[39mreturn\u001b[39;00m \u001b[39mself\u001b[39;49m\u001b[39m.\u001b[39;49m__check(\n\u001b[0;32m    443\u001b[0m         \u001b[39m*\u001b[39;49m\u001b[39mself\u001b[39;49m\u001b[39m.\u001b[39;49mrequestJson(\n\u001b[0;32m    444\u001b[0m             verb, url, parameters, headers, \u001b[39minput\u001b[39;49m, \u001b[39mself\u001b[39;49m\u001b[39m.\u001b[39;49m__customConnection(url)\n\u001b[0;32m    445\u001b[0m         )\n\u001b[0;32m    446\u001b[0m     )\n",
      "File \u001b[1;32mc:\\Users\\jhaabman\\OneDrive - Tietoevry\\Desktop\\Scaler\\Deep_Learning\\OD_setup\\env\\lib\\site-packages\\github\\Requester.py:487\u001b[0m, in \u001b[0;36mRequester.__check\u001b[1;34m(self, status, responseHeaders, output)\u001b[0m\n\u001b[0;32m    485\u001b[0m data \u001b[39m=\u001b[39m \u001b[39mself\u001b[39m\u001b[39m.\u001b[39m__structuredFromJson(output)\n\u001b[0;32m    486\u001b[0m \u001b[39mif\u001b[39;00m status \u001b[39m>\u001b[39m\u001b[39m=\u001b[39m \u001b[39m400\u001b[39m:\n\u001b[1;32m--> 487\u001b[0m     \u001b[39mraise\u001b[39;00m \u001b[39mself\u001b[39m\u001b[39m.\u001b[39m__createException(status, responseHeaders, data)\n\u001b[0;32m    488\u001b[0m \u001b[39mreturn\u001b[39;00m responseHeaders, data\n",
      "\u001b[1;31mGithubException\u001b[0m: 401 {\"message\": \"Requires authentication\", \"documentation_url\": \"https://docs.github.com/rest/users/users#get-the-authenticated-user\"}"
     ]
    }
   ],
   "source": [
    "repo = g.get_user().get_repo(\"manishacadgild/example_repo\")"
   ]
  },
  {
   "cell_type": "code",
   "execution_count": 11,
   "metadata": {},
   "outputs": [
    {
     "ename": "UnknownObjectException",
     "evalue": "404 {\"message\": \"Not Found\", \"documentation_url\": \"https://docs.github.com/rest/repos/contents#create-or-update-file-contents\"}",
     "output_type": "error",
     "traceback": [
      "\u001b[1;31m---------------------------------------------------------------------------\u001b[0m",
      "\u001b[1;31mUnknownObjectException\u001b[0m                    Traceback (most recent call last)",
      "Cell \u001b[1;32mIn[11], line 1\u001b[0m\n\u001b[1;32m----> 1\u001b[0m repo\u001b[39m.\u001b[39;49mcreate_file(\u001b[39m\"\u001b[39;49m\u001b[39mtest.txt\u001b[39;49m\u001b[39m\"\u001b[39;49m, \u001b[39m\"\u001b[39;49m\u001b[39mtest\u001b[39;49m\u001b[39m\"\u001b[39;49m, \u001b[39m\"\u001b[39;49m\u001b[39mtest\u001b[39;49m\u001b[39m\"\u001b[39;49m, branch\u001b[39m=\u001b[39;49m\u001b[39m\"\u001b[39;49m\u001b[39mmain\u001b[39;49m\u001b[39m\"\u001b[39;49m)\n",
      "File \u001b[1;32mc:\\Users\\jhaabman\\OneDrive - Tietoevry\\Desktop\\Scaler\\Deep_Learning\\OD_setup\\env\\lib\\site-packages\\github\\Repository.py:2417\u001b[0m, in \u001b[0;36mRepository.create_file\u001b[1;34m(self, path, message, content, branch, committer, author)\u001b[0m\n\u001b[0;32m   2414\u001b[0m \u001b[39mif\u001b[39;00m committer \u001b[39mis\u001b[39;00m \u001b[39mnot\u001b[39;00m github\u001b[39m.\u001b[39mGithubObject\u001b[39m.\u001b[39mNotSet:\n\u001b[0;32m   2415\u001b[0m     put_parameters[\u001b[39m\"\u001b[39m\u001b[39mcommitter\u001b[39m\u001b[39m\"\u001b[39m] \u001b[39m=\u001b[39m committer\u001b[39m.\u001b[39m_identity\n\u001b[1;32m-> 2417\u001b[0m headers, data \u001b[39m=\u001b[39m \u001b[39mself\u001b[39;49m\u001b[39m.\u001b[39;49m_requester\u001b[39m.\u001b[39;49mrequestJsonAndCheck(\n\u001b[0;32m   2418\u001b[0m     \u001b[39m\"\u001b[39;49m\u001b[39mPUT\u001b[39;49m\u001b[39m\"\u001b[39;49m,\n\u001b[0;32m   2419\u001b[0m     \u001b[39mf\u001b[39;49m\u001b[39m\"\u001b[39;49m\u001b[39m{\u001b[39;49;00m\u001b[39mself\u001b[39;49m\u001b[39m.\u001b[39;49murl\u001b[39m}\u001b[39;49;00m\u001b[39m/contents/\u001b[39;49m\u001b[39m{\u001b[39;49;00murllib\u001b[39m.\u001b[39;49mparse\u001b[39m.\u001b[39;49mquote(path)\u001b[39m}\u001b[39;49;00m\u001b[39m\"\u001b[39;49m,\n\u001b[0;32m   2420\u001b[0m     \u001b[39minput\u001b[39;49m\u001b[39m=\u001b[39;49mput_parameters,\n\u001b[0;32m   2421\u001b[0m )\n\u001b[0;32m   2423\u001b[0m \u001b[39mreturn\u001b[39;00m {\n\u001b[0;32m   2424\u001b[0m     \u001b[39m\"\u001b[39m\u001b[39mcontent\u001b[39m\u001b[39m\"\u001b[39m: github\u001b[39m.\u001b[39mContentFile\u001b[39m.\u001b[39mContentFile(\n\u001b[0;32m   2425\u001b[0m         \u001b[39mself\u001b[39m\u001b[39m.\u001b[39m_requester, headers, data[\u001b[39m\"\u001b[39m\u001b[39mcontent\u001b[39m\u001b[39m\"\u001b[39m], completed\u001b[39m=\u001b[39m\u001b[39mFalse\u001b[39;00m\n\u001b[1;32m   (...)\u001b[0m\n\u001b[0;32m   2429\u001b[0m     ),\n\u001b[0;32m   2430\u001b[0m }\n",
      "File \u001b[1;32mc:\\Users\\jhaabman\\OneDrive - Tietoevry\\Desktop\\Scaler\\Deep_Learning\\OD_setup\\env\\lib\\site-packages\\github\\Requester.py:442\u001b[0m, in \u001b[0;36mRequester.requestJsonAndCheck\u001b[1;34m(self, verb, url, parameters, headers, input)\u001b[0m\n\u001b[0;32m    434\u001b[0m \u001b[39mdef\u001b[39;00m \u001b[39mrequestJsonAndCheck\u001b[39m(\n\u001b[0;32m    435\u001b[0m     \u001b[39mself\u001b[39m,\n\u001b[0;32m    436\u001b[0m     verb: \u001b[39mstr\u001b[39m,\n\u001b[1;32m   (...)\u001b[0m\n\u001b[0;32m    440\u001b[0m     \u001b[39minput\u001b[39m: Optional[Any] \u001b[39m=\u001b[39m \u001b[39mNone\u001b[39;00m,\n\u001b[0;32m    441\u001b[0m ) \u001b[39m-\u001b[39m\u001b[39m>\u001b[39m Tuple[Dict[\u001b[39mstr\u001b[39m, Any], Any]:\n\u001b[1;32m--> 442\u001b[0m     \u001b[39mreturn\u001b[39;00m \u001b[39mself\u001b[39;49m\u001b[39m.\u001b[39;49m__check(\n\u001b[0;32m    443\u001b[0m         \u001b[39m*\u001b[39;49m\u001b[39mself\u001b[39;49m\u001b[39m.\u001b[39;49mrequestJson(\n\u001b[0;32m    444\u001b[0m             verb, url, parameters, headers, \u001b[39minput\u001b[39;49m, \u001b[39mself\u001b[39;49m\u001b[39m.\u001b[39;49m__customConnection(url)\n\u001b[0;32m    445\u001b[0m         )\n\u001b[0;32m    446\u001b[0m     )\n",
      "File \u001b[1;32mc:\\Users\\jhaabman\\OneDrive - Tietoevry\\Desktop\\Scaler\\Deep_Learning\\OD_setup\\env\\lib\\site-packages\\github\\Requester.py:487\u001b[0m, in \u001b[0;36mRequester.__check\u001b[1;34m(self, status, responseHeaders, output)\u001b[0m\n\u001b[0;32m    485\u001b[0m data \u001b[39m=\u001b[39m \u001b[39mself\u001b[39m\u001b[39m.\u001b[39m__structuredFromJson(output)\n\u001b[0;32m    486\u001b[0m \u001b[39mif\u001b[39;00m status \u001b[39m>\u001b[39m\u001b[39m=\u001b[39m \u001b[39m400\u001b[39m:\n\u001b[1;32m--> 487\u001b[0m     \u001b[39mraise\u001b[39;00m \u001b[39mself\u001b[39m\u001b[39m.\u001b[39m__createException(status, responseHeaders, data)\n\u001b[0;32m    488\u001b[0m \u001b[39mreturn\u001b[39;00m responseHeaders, data\n",
      "\u001b[1;31mUnknownObjectException\u001b[0m: 404 {\"message\": \"Not Found\", \"documentation_url\": \"https://docs.github.com/rest/repos/contents#create-or-update-file-contents\"}"
     ]
    }
   ],
   "source": [
    "repo.create_file(\"test.txt\", \"test\", \"test\", branch=\"main\")"
   ]
  },
  {
   "cell_type": "code",
   "execution_count": 107,
   "metadata": {},
   "outputs": [
    {
     "ename": "UnknownObjectException",
     "evalue": "404 {\"message\": \"Not Found\", \"documentation_url\": \"https://docs.github.com/rest/repos/contents#create-or-update-file-contents\"}",
     "output_type": "error",
     "traceback": [
      "\u001b[1;31m---------------------------------------------------------------------------\u001b[0m",
      "\u001b[1;31mUnknownObjectException\u001b[0m                    Traceback (most recent call last)",
      "Cell \u001b[1;32mIn[107], line 2\u001b[0m\n\u001b[0;32m      1\u001b[0m \u001b[39m#repo = g.get_repo(\"manishacadgild/OD_setup\")\u001b[39;00m\n\u001b[1;32m----> 2\u001b[0m repo\u001b[39m.\u001b[39;49mcreate_file(\u001b[39m\"\u001b[39;49m\u001b[39mtest.txt\u001b[39;49m\u001b[39m\"\u001b[39;49m, \u001b[39m\"\u001b[39;49m\u001b[39mtest\u001b[39;49m\u001b[39m\"\u001b[39;49m, \u001b[39m\"\u001b[39;49m\u001b[39mtest\u001b[39;49m\u001b[39m\"\u001b[39;49m, branch\u001b[39m=\u001b[39;49m\u001b[39m\"\u001b[39;49m\u001b[39mmain\u001b[39;49m\u001b[39m\"\u001b[39;49m)\n",
      "File \u001b[1;32mc:\\Users\\jhaabman\\OneDrive - Tietoevry\\Desktop\\Scaler\\Deep_Learning\\OD_setup\\env\\lib\\site-packages\\github\\Repository.py:2417\u001b[0m, in \u001b[0;36mRepository.create_file\u001b[1;34m(self, path, message, content, branch, committer, author)\u001b[0m\n\u001b[0;32m   2414\u001b[0m \u001b[39mif\u001b[39;00m committer \u001b[39mis\u001b[39;00m \u001b[39mnot\u001b[39;00m github\u001b[39m.\u001b[39mGithubObject\u001b[39m.\u001b[39mNotSet:\n\u001b[0;32m   2415\u001b[0m     put_parameters[\u001b[39m\"\u001b[39m\u001b[39mcommitter\u001b[39m\u001b[39m\"\u001b[39m] \u001b[39m=\u001b[39m committer\u001b[39m.\u001b[39m_identity\n\u001b[1;32m-> 2417\u001b[0m headers, data \u001b[39m=\u001b[39m \u001b[39mself\u001b[39;49m\u001b[39m.\u001b[39;49m_requester\u001b[39m.\u001b[39;49mrequestJsonAndCheck(\n\u001b[0;32m   2418\u001b[0m     \u001b[39m\"\u001b[39;49m\u001b[39mPUT\u001b[39;49m\u001b[39m\"\u001b[39;49m,\n\u001b[0;32m   2419\u001b[0m     \u001b[39mf\u001b[39;49m\u001b[39m\"\u001b[39;49m\u001b[39m{\u001b[39;49;00m\u001b[39mself\u001b[39;49m\u001b[39m.\u001b[39;49murl\u001b[39m}\u001b[39;49;00m\u001b[39m/contents/\u001b[39;49m\u001b[39m{\u001b[39;49;00murllib\u001b[39m.\u001b[39;49mparse\u001b[39m.\u001b[39;49mquote(path)\u001b[39m}\u001b[39;49;00m\u001b[39m\"\u001b[39;49m,\n\u001b[0;32m   2420\u001b[0m     \u001b[39minput\u001b[39;49m\u001b[39m=\u001b[39;49mput_parameters,\n\u001b[0;32m   2421\u001b[0m )\n\u001b[0;32m   2423\u001b[0m \u001b[39mreturn\u001b[39;00m {\n\u001b[0;32m   2424\u001b[0m     \u001b[39m\"\u001b[39m\u001b[39mcontent\u001b[39m\u001b[39m\"\u001b[39m: github\u001b[39m.\u001b[39mContentFile\u001b[39m.\u001b[39mContentFile(\n\u001b[0;32m   2425\u001b[0m         \u001b[39mself\u001b[39m\u001b[39m.\u001b[39m_requester, headers, data[\u001b[39m\"\u001b[39m\u001b[39mcontent\u001b[39m\u001b[39m\"\u001b[39m], completed\u001b[39m=\u001b[39m\u001b[39mFalse\u001b[39;00m\n\u001b[1;32m   (...)\u001b[0m\n\u001b[0;32m   2429\u001b[0m     ),\n\u001b[0;32m   2430\u001b[0m }\n",
      "File \u001b[1;32mc:\\Users\\jhaabman\\OneDrive - Tietoevry\\Desktop\\Scaler\\Deep_Learning\\OD_setup\\env\\lib\\site-packages\\github\\Requester.py:442\u001b[0m, in \u001b[0;36mRequester.requestJsonAndCheck\u001b[1;34m(self, verb, url, parameters, headers, input)\u001b[0m\n\u001b[0;32m    434\u001b[0m \u001b[39mdef\u001b[39;00m \u001b[39mrequestJsonAndCheck\u001b[39m(\n\u001b[0;32m    435\u001b[0m     \u001b[39mself\u001b[39m,\n\u001b[0;32m    436\u001b[0m     verb: \u001b[39mstr\u001b[39m,\n\u001b[1;32m   (...)\u001b[0m\n\u001b[0;32m    440\u001b[0m     \u001b[39minput\u001b[39m: Optional[Any] \u001b[39m=\u001b[39m \u001b[39mNone\u001b[39;00m,\n\u001b[0;32m    441\u001b[0m ) \u001b[39m-\u001b[39m\u001b[39m>\u001b[39m Tuple[Dict[\u001b[39mstr\u001b[39m, Any], Any]:\n\u001b[1;32m--> 442\u001b[0m     \u001b[39mreturn\u001b[39;00m \u001b[39mself\u001b[39;49m\u001b[39m.\u001b[39;49m__check(\n\u001b[0;32m    443\u001b[0m         \u001b[39m*\u001b[39;49m\u001b[39mself\u001b[39;49m\u001b[39m.\u001b[39;49mrequestJson(\n\u001b[0;32m    444\u001b[0m             verb, url, parameters, headers, \u001b[39minput\u001b[39;49m, \u001b[39mself\u001b[39;49m\u001b[39m.\u001b[39;49m__customConnection(url)\n\u001b[0;32m    445\u001b[0m         )\n\u001b[0;32m    446\u001b[0m     )\n",
      "File \u001b[1;32mc:\\Users\\jhaabman\\OneDrive - Tietoevry\\Desktop\\Scaler\\Deep_Learning\\OD_setup\\env\\lib\\site-packages\\github\\Requester.py:487\u001b[0m, in \u001b[0;36mRequester.__check\u001b[1;34m(self, status, responseHeaders, output)\u001b[0m\n\u001b[0;32m    485\u001b[0m data \u001b[39m=\u001b[39m \u001b[39mself\u001b[39m\u001b[39m.\u001b[39m__structuredFromJson(output)\n\u001b[0;32m    486\u001b[0m \u001b[39mif\u001b[39;00m status \u001b[39m>\u001b[39m\u001b[39m=\u001b[39m \u001b[39m400\u001b[39m:\n\u001b[1;32m--> 487\u001b[0m     \u001b[39mraise\u001b[39;00m \u001b[39mself\u001b[39m\u001b[39m.\u001b[39m__createException(status, responseHeaders, data)\n\u001b[0;32m    488\u001b[0m \u001b[39mreturn\u001b[39;00m responseHeaders, data\n",
      "\u001b[1;31mUnknownObjectException\u001b[0m: 404 {\"message\": \"Not Found\", \"documentation_url\": \"https://docs.github.com/rest/repos/contents#create-or-update-file-contents\"}"
     ]
    }
   ],
   "source": [
    "#repo = g.get_repo(\"manishacadgild/OD_setup\")\n",
    "repo.create_file(\"test.txt\", \"test\", \"test\", branch=\"main\")"
   ]
  },
  {
   "cell_type": "code",
   "execution_count": null,
   "metadata": {},
   "outputs": [],
   "source": [
    "filepath=\"example/test.txt\""
   ]
  },
  {
   "cell_type": "code",
   "execution_count": null,
   "metadata": {},
   "outputs": [
    {
     "ename": "UnknownObjectException",
     "evalue": "404 {\"message\": \"Not Found\", \"documentation_url\": \"https://docs.github.com/rest/repos/contents#create-or-update-file-contents\"}",
     "output_type": "error",
     "traceback": [
      "\u001b[1;31m---------------------------------------------------------------------------\u001b[0m",
      "\u001b[1;31mUnknownObjectException\u001b[0m                    Traceback (most recent call last)",
      "Cell \u001b[1;32mIn[75], line 1\u001b[0m\n\u001b[1;32m----> 1\u001b[0m repo\u001b[39m.\u001b[39;49mcreate_file(\u001b[39m\"\u001b[39;49m\u001b[39mrepo.full_name/test.txt\u001b[39;49m\u001b[39m\"\u001b[39;49m,\u001b[39m\"\u001b[39;49m\u001b[39mcommit\u001b[39;49m\u001b[39m\"\u001b[39;49m,\u001b[39m\"\u001b[39;49m\u001b[39mthis is file\u001b[39;49m\u001b[39m\"\u001b[39;49m)\n",
      "File \u001b[1;32mc:\\Users\\jhaabman\\OneDrive - Tietoevry\\Desktop\\Scaler\\Deep_Learning\\OD_setup\\env\\lib\\site-packages\\github\\Repository.py:2417\u001b[0m, in \u001b[0;36mRepository.create_file\u001b[1;34m(self, path, message, content, branch, committer, author)\u001b[0m\n\u001b[0;32m   2414\u001b[0m \u001b[39mif\u001b[39;00m committer \u001b[39mis\u001b[39;00m \u001b[39mnot\u001b[39;00m github\u001b[39m.\u001b[39mGithubObject\u001b[39m.\u001b[39mNotSet:\n\u001b[0;32m   2415\u001b[0m     put_parameters[\u001b[39m\"\u001b[39m\u001b[39mcommitter\u001b[39m\u001b[39m\"\u001b[39m] \u001b[39m=\u001b[39m committer\u001b[39m.\u001b[39m_identity\n\u001b[1;32m-> 2417\u001b[0m headers, data \u001b[39m=\u001b[39m \u001b[39mself\u001b[39;49m\u001b[39m.\u001b[39;49m_requester\u001b[39m.\u001b[39;49mrequestJsonAndCheck(\n\u001b[0;32m   2418\u001b[0m     \u001b[39m\"\u001b[39;49m\u001b[39mPUT\u001b[39;49m\u001b[39m\"\u001b[39;49m,\n\u001b[0;32m   2419\u001b[0m     \u001b[39mf\u001b[39;49m\u001b[39m\"\u001b[39;49m\u001b[39m{\u001b[39;49;00m\u001b[39mself\u001b[39;49m\u001b[39m.\u001b[39;49murl\u001b[39m}\u001b[39;49;00m\u001b[39m/contents/\u001b[39;49m\u001b[39m{\u001b[39;49;00murllib\u001b[39m.\u001b[39;49mparse\u001b[39m.\u001b[39;49mquote(path)\u001b[39m}\u001b[39;49;00m\u001b[39m\"\u001b[39;49m,\n\u001b[0;32m   2420\u001b[0m     \u001b[39minput\u001b[39;49m\u001b[39m=\u001b[39;49mput_parameters,\n\u001b[0;32m   2421\u001b[0m )\n\u001b[0;32m   2423\u001b[0m \u001b[39mreturn\u001b[39;00m {\n\u001b[0;32m   2424\u001b[0m     \u001b[39m\"\u001b[39m\u001b[39mcontent\u001b[39m\u001b[39m\"\u001b[39m: github\u001b[39m.\u001b[39mContentFile\u001b[39m.\u001b[39mContentFile(\n\u001b[0;32m   2425\u001b[0m         \u001b[39mself\u001b[39m\u001b[39m.\u001b[39m_requester, headers, data[\u001b[39m\"\u001b[39m\u001b[39mcontent\u001b[39m\u001b[39m\"\u001b[39m], completed\u001b[39m=\u001b[39m\u001b[39mFalse\u001b[39;00m\n\u001b[1;32m   (...)\u001b[0m\n\u001b[0;32m   2429\u001b[0m     ),\n\u001b[0;32m   2430\u001b[0m }\n",
      "File \u001b[1;32mc:\\Users\\jhaabman\\OneDrive - Tietoevry\\Desktop\\Scaler\\Deep_Learning\\OD_setup\\env\\lib\\site-packages\\github\\Requester.py:442\u001b[0m, in \u001b[0;36mRequester.requestJsonAndCheck\u001b[1;34m(self, verb, url, parameters, headers, input)\u001b[0m\n\u001b[0;32m    434\u001b[0m \u001b[39mdef\u001b[39;00m \u001b[39mrequestJsonAndCheck\u001b[39m(\n\u001b[0;32m    435\u001b[0m     \u001b[39mself\u001b[39m,\n\u001b[0;32m    436\u001b[0m     verb: \u001b[39mstr\u001b[39m,\n\u001b[1;32m   (...)\u001b[0m\n\u001b[0;32m    440\u001b[0m     \u001b[39minput\u001b[39m: Optional[Any] \u001b[39m=\u001b[39m \u001b[39mNone\u001b[39;00m,\n\u001b[0;32m    441\u001b[0m ) \u001b[39m-\u001b[39m\u001b[39m>\u001b[39m Tuple[Dict[\u001b[39mstr\u001b[39m, Any], Any]:\n\u001b[1;32m--> 442\u001b[0m     \u001b[39mreturn\u001b[39;00m \u001b[39mself\u001b[39;49m\u001b[39m.\u001b[39;49m__check(\n\u001b[0;32m    443\u001b[0m         \u001b[39m*\u001b[39;49m\u001b[39mself\u001b[39;49m\u001b[39m.\u001b[39;49mrequestJson(\n\u001b[0;32m    444\u001b[0m             verb, url, parameters, headers, \u001b[39minput\u001b[39;49m, \u001b[39mself\u001b[39;49m\u001b[39m.\u001b[39;49m__customConnection(url)\n\u001b[0;32m    445\u001b[0m         )\n\u001b[0;32m    446\u001b[0m     )\n",
      "File \u001b[1;32mc:\\Users\\jhaabman\\OneDrive - Tietoevry\\Desktop\\Scaler\\Deep_Learning\\OD_setup\\env\\lib\\site-packages\\github\\Requester.py:487\u001b[0m, in \u001b[0;36mRequester.__check\u001b[1;34m(self, status, responseHeaders, output)\u001b[0m\n\u001b[0;32m    485\u001b[0m data \u001b[39m=\u001b[39m \u001b[39mself\u001b[39m\u001b[39m.\u001b[39m__structuredFromJson(output)\n\u001b[0;32m    486\u001b[0m \u001b[39mif\u001b[39;00m status \u001b[39m>\u001b[39m\u001b[39m=\u001b[39m \u001b[39m400\u001b[39m:\n\u001b[1;32m--> 487\u001b[0m     \u001b[39mraise\u001b[39;00m \u001b[39mself\u001b[39m\u001b[39m.\u001b[39m__createException(status, responseHeaders, data)\n\u001b[0;32m    488\u001b[0m \u001b[39mreturn\u001b[39;00m responseHeaders, data\n",
      "\u001b[1;31mUnknownObjectException\u001b[0m: 404 {\"message\": \"Not Found\", \"documentation_url\": \"https://docs.github.com/rest/repos/contents#create-or-update-file-contents\"}"
     ]
    }
   ],
   "source": [
    "repo.create_file(\"repo.full_name/test.txt\",\"commit\",\"this is file\")"
   ]
  },
  {
   "cell_type": "code",
   "execution_count": null,
   "metadata": {},
   "outputs": [],
   "source": [
    "user=g.get_users()\n",
    "\n"
   ]
  },
  {
   "cell_type": "code",
   "execution_count": 108,
   "metadata": {},
   "outputs": [
    {
     "ename": "AttributeError",
     "evalue": "'PaginatedList' object has no attribute 'create_repo'",
     "output_type": "error",
     "traceback": [
      "\u001b[1;31m---------------------------------------------------------------------------\u001b[0m",
      "\u001b[1;31mAttributeError\u001b[0m                            Traceback (most recent call last)",
      "Cell \u001b[1;32mIn[108], line 1\u001b[0m\n\u001b[1;32m----> 1\u001b[0m repo\u001b[39m=\u001b[39muser\u001b[39m.\u001b[39;49mcreate_repo(\u001b[39m\"\u001b[39m\u001b[39mtes\u001b[39m\u001b[39m\"\u001b[39m)\n",
      "\u001b[1;31mAttributeError\u001b[0m: 'PaginatedList' object has no attribute 'create_repo'"
     ]
    }
   ],
   "source": [
    "repo=user.create_repo(\"tes\")"
   ]
  },
  {
   "cell_type": "code",
   "execution_count": 109,
   "metadata": {},
   "outputs": [
    {
     "name": "stdout",
     "output_type": "stream",
     "text": [
      "<github.PaginatedList.PaginatedList object at 0x00000254F8670160>\n"
     ]
    }
   ],
   "source": [
    "user_id=g.get_users()\n",
    "print(user_id)"
   ]
  },
  {
   "cell_type": "code",
   "execution_count": 110,
   "metadata": {},
   "outputs": [],
   "source": [
    "repos=g.search_repositories(query=\"language:python\")"
   ]
  },
  {
   "cell_type": "code",
   "execution_count": 111,
   "metadata": {},
   "outputs": [
    {
     "name": "stdout",
     "output_type": "stream",
     "text": [
      "OD_setup\n"
     ]
    }
   ],
   "source": [
    "repo=g.get_repo(\"manishacadgild/OD_setup\")\n",
    "print(repo.name)"
   ]
  },
  {
   "cell_type": "code",
   "execution_count": 112,
   "metadata": {},
   "outputs": [],
   "source": [
    "content=repo.get_contents(\"\")"
   ]
  },
  {
   "cell_type": "code",
   "execution_count": 113,
   "metadata": {},
   "outputs": [
    {
     "name": "stdout",
     "output_type": "stream",
     "text": [
      "ContentFile(path=\".gitignore\")\n",
      "ContentFile(path=\"README.md\")\n",
      "ContentFile(path=\"init_setup.sh\")\n",
      "ContentFile(path=\"requirements.txt\")\n"
     ]
    }
   ],
   "source": [
    "for contentfile in content:\n",
    "    print(contentfile)"
   ]
  },
  {
   "cell_type": "code",
   "execution_count": 31,
   "metadata": {},
   "outputs": [
    {
     "ename": "GithubException",
     "evalue": "401 {\"message\": \"Requires authentication\", \"documentation_url\": \"https://docs.github.com/rest/repos/repos#list-repositories-for-the-authenticated-user\"}",
     "output_type": "error",
     "traceback": [
      "\u001b[1;31m---------------------------------------------------------------------------\u001b[0m",
      "\u001b[1;31mGithubException\u001b[0m                           Traceback (most recent call last)",
      "Cell \u001b[1;32mIn[31], line 1\u001b[0m\n\u001b[1;32m----> 1\u001b[0m \u001b[39mfor\u001b[39;00m repo \u001b[39min\u001b[39;00m g\u001b[39m.\u001b[39mget_user()\u001b[39m.\u001b[39mget_repos():\n\u001b[0;32m      2\u001b[0m     \u001b[39mprint\u001b[39m(repo\u001b[39m.\u001b[39mname)\n",
      "File \u001b[1;32mc:\\Users\\jhaabman\\OneDrive - Tietoevry\\Desktop\\Scaler\\Deep_Learning\\OD_setup\\env\\lib\\site-packages\\github\\PaginatedList.py:69\u001b[0m, in \u001b[0;36mPaginatedListBase.__iter__\u001b[1;34m(self)\u001b[0m\n\u001b[0;32m     67\u001b[0m \u001b[39myield from\u001b[39;00m \u001b[39mself\u001b[39m\u001b[39m.\u001b[39m__elements\n\u001b[0;32m     68\u001b[0m \u001b[39mwhile\u001b[39;00m \u001b[39mself\u001b[39m\u001b[39m.\u001b[39m_couldGrow():\n\u001b[1;32m---> 69\u001b[0m     newElements \u001b[39m=\u001b[39m \u001b[39mself\u001b[39;49m\u001b[39m.\u001b[39;49m_grow()\n\u001b[0;32m     70\u001b[0m     \u001b[39myield from\u001b[39;00m newElements\n",
      "File \u001b[1;32mc:\\Users\\jhaabman\\OneDrive - Tietoevry\\Desktop\\Scaler\\Deep_Learning\\OD_setup\\env\\lib\\site-packages\\github\\PaginatedList.py:80\u001b[0m, in \u001b[0;36mPaginatedListBase._grow\u001b[1;34m(self)\u001b[0m\n\u001b[0;32m     79\u001b[0m \u001b[39mdef\u001b[39;00m \u001b[39m_grow\u001b[39m(\u001b[39mself\u001b[39m) \u001b[39m-\u001b[39m\u001b[39m>\u001b[39m List[T]:\n\u001b[1;32m---> 80\u001b[0m     newElements \u001b[39m=\u001b[39m \u001b[39mself\u001b[39;49m\u001b[39m.\u001b[39;49m_fetchNextPage()\n\u001b[0;32m     81\u001b[0m     \u001b[39mself\u001b[39m\u001b[39m.\u001b[39m__elements \u001b[39m+\u001b[39m\u001b[39m=\u001b[39m newElements\n\u001b[0;32m     82\u001b[0m     \u001b[39mreturn\u001b[39;00m newElements\n",
      "File \u001b[1;32mc:\\Users\\jhaabman\\OneDrive - Tietoevry\\Desktop\\Scaler\\Deep_Learning\\OD_setup\\env\\lib\\site-packages\\github\\PaginatedList.py:213\u001b[0m, in \u001b[0;36mPaginatedList._fetchNextPage\u001b[1;34m(self)\u001b[0m\n\u001b[0;32m    212\u001b[0m \u001b[39mdef\u001b[39;00m \u001b[39m_fetchNextPage\u001b[39m(\u001b[39mself\u001b[39m) \u001b[39m-\u001b[39m\u001b[39m>\u001b[39m List[T]:\n\u001b[1;32m--> 213\u001b[0m     headers, data \u001b[39m=\u001b[39m \u001b[39mself\u001b[39;49m\u001b[39m.\u001b[39;49m__requester\u001b[39m.\u001b[39;49mrequestJsonAndCheck(\n\u001b[0;32m    214\u001b[0m         \u001b[39m\"\u001b[39;49m\u001b[39mGET\u001b[39;49m\u001b[39m\"\u001b[39;49m, \u001b[39mself\u001b[39;49m\u001b[39m.\u001b[39;49m__nextUrl, parameters\u001b[39m=\u001b[39;49m\u001b[39mself\u001b[39;49m\u001b[39m.\u001b[39;49m__nextParams, headers\u001b[39m=\u001b[39;49m\u001b[39mself\u001b[39;49m\u001b[39m.\u001b[39;49m__headers\n\u001b[0;32m    215\u001b[0m     )\n\u001b[0;32m    216\u001b[0m     data \u001b[39m=\u001b[39m data \u001b[39mif\u001b[39;00m data \u001b[39melse\u001b[39;00m []\n\u001b[0;32m    218\u001b[0m     \u001b[39mself\u001b[39m\u001b[39m.\u001b[39m__nextUrl \u001b[39m=\u001b[39m \u001b[39mNone\u001b[39;00m  \u001b[39m# type: ignore\u001b[39;00m\n",
      "File \u001b[1;32mc:\\Users\\jhaabman\\OneDrive - Tietoevry\\Desktop\\Scaler\\Deep_Learning\\OD_setup\\env\\lib\\site-packages\\github\\Requester.py:442\u001b[0m, in \u001b[0;36mRequester.requestJsonAndCheck\u001b[1;34m(self, verb, url, parameters, headers, input)\u001b[0m\n\u001b[0;32m    434\u001b[0m \u001b[39mdef\u001b[39;00m \u001b[39mrequestJsonAndCheck\u001b[39m(\n\u001b[0;32m    435\u001b[0m     \u001b[39mself\u001b[39m,\n\u001b[0;32m    436\u001b[0m     verb: \u001b[39mstr\u001b[39m,\n\u001b[1;32m   (...)\u001b[0m\n\u001b[0;32m    440\u001b[0m     \u001b[39minput\u001b[39m: Optional[Any] \u001b[39m=\u001b[39m \u001b[39mNone\u001b[39;00m,\n\u001b[0;32m    441\u001b[0m ) \u001b[39m-\u001b[39m\u001b[39m>\u001b[39m Tuple[Dict[\u001b[39mstr\u001b[39m, Any], Any]:\n\u001b[1;32m--> 442\u001b[0m     \u001b[39mreturn\u001b[39;00m \u001b[39mself\u001b[39;49m\u001b[39m.\u001b[39;49m__check(\n\u001b[0;32m    443\u001b[0m         \u001b[39m*\u001b[39;49m\u001b[39mself\u001b[39;49m\u001b[39m.\u001b[39;49mrequestJson(\n\u001b[0;32m    444\u001b[0m             verb, url, parameters, headers, \u001b[39minput\u001b[39;49m, \u001b[39mself\u001b[39;49m\u001b[39m.\u001b[39;49m__customConnection(url)\n\u001b[0;32m    445\u001b[0m         )\n\u001b[0;32m    446\u001b[0m     )\n",
      "File \u001b[1;32mc:\\Users\\jhaabman\\OneDrive - Tietoevry\\Desktop\\Scaler\\Deep_Learning\\OD_setup\\env\\lib\\site-packages\\github\\Requester.py:487\u001b[0m, in \u001b[0;36mRequester.__check\u001b[1;34m(self, status, responseHeaders, output)\u001b[0m\n\u001b[0;32m    485\u001b[0m data \u001b[39m=\u001b[39m \u001b[39mself\u001b[39m\u001b[39m.\u001b[39m__structuredFromJson(output)\n\u001b[0;32m    486\u001b[0m \u001b[39mif\u001b[39;00m status \u001b[39m>\u001b[39m\u001b[39m=\u001b[39m \u001b[39m400\u001b[39m:\n\u001b[1;32m--> 487\u001b[0m     \u001b[39mraise\u001b[39;00m \u001b[39mself\u001b[39m\u001b[39m.\u001b[39m__createException(status, responseHeaders, data)\n\u001b[0;32m    488\u001b[0m \u001b[39mreturn\u001b[39;00m responseHeaders, data\n",
      "\u001b[1;31mGithubException\u001b[0m: 401 {\"message\": \"Requires authentication\", \"documentation_url\": \"https://docs.github.com/rest/repos/repos#list-repositories-for-the-authenticated-user\"}"
     ]
    }
   ],
   "source": [
    "for repo in g.get_user().get_repos():\n",
    "    print(repo.name)\n",
    "    "
   ]
  },
  {
   "cell_type": "code",
   "execution_count": null,
   "metadata": {},
   "outputs": [],
   "source": []
  }
 ],
 "metadata": {
  "kernelspec": {
   "display_name": "Python 3",
   "language": "python",
   "name": "python3"
  },
  "language_info": {
   "codemirror_mode": {
    "name": "ipython",
    "version": 3
   },
   "file_extension": ".py",
   "mimetype": "text/x-python",
   "name": "python",
   "nbconvert_exporter": "python",
   "pygments_lexer": "ipython3",
   "version": "3.9.17"
  },
  "orig_nbformat": 4
 },
 "nbformat": 4,
 "nbformat_minor": 2
}
